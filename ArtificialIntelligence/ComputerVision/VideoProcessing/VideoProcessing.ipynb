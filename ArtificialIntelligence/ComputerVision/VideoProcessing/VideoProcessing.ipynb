{
 "cells": [
  {
   "cell_type": "markdown",
   "metadata": {},
   "source": [
    "# Video Processing OpenCV\n",
    "\n",
    "## Stream from camera and Write in Files"
   ]
  },
  {
   "cell_type": "code",
   "execution_count": 3,
   "metadata": {},
   "outputs": [],
   "source": [
    "import cv2 as cv\n",
    "\n",
    "cap = cv.VideoCapture(0) # Default Camera\n",
    "\n",
    "width = int(cap.get(cv.CAP_PROP_FRAME_WIDTH))\n",
    "height = int(cap.get(cv.CAP_PROP_FRAME_HEIGHT))\n",
    "\n",
    "writer = cv.VideoWriter('webcam.mp4', cv.VideoWriter_fourcc(*'XVID'), 10, (width, height))\n",
    "\n",
    "while True:\n",
    "    \n",
    "    ret, frame = cap.read()\n",
    "#     gray = cv.cvtColor(frame,cv.COLOR_BGR2GRAY)\n",
    "    \n",
    "    writer.write(frame)\n",
    "    cv.imshow('frame', frame)\n",
    "    \n",
    "    if cv.waitKey(1) & 0xFF == ord('q'):\n",
    "        break\n",
    "        \n",
    "cap.release()\n",
    "writer.release()\n",
    "cv.destroyAllWindows()"
   ]
  },
  {
   "cell_type": "markdown",
   "metadata": {},
   "source": [
    "## VideoFile"
   ]
  },
  {
   "cell_type": "code",
   "execution_count": 6,
   "metadata": {},
   "outputs": [],
   "source": [
    "import cv2 as cv\n",
    "import time\n",
    "\n",
    "cap = cv.VideoCapture('onigiri.mp4')\n",
    "\n",
    "if cap.isOpened() == False:\n",
    "    print('Error FNF !!')\n",
    "    \n",
    "while cap.isOpened():\n",
    "    ret, frame = cap.read()\n",
    "    if ret == True:\n",
    "        \n",
    "#         time.sleep(1/20) # Delay\n",
    "        cv.imshow('frame', frame)\n",
    "        if cv.waitKey(10) & 0xFF == ord('q'):\n",
    "            break\n",
    "    else:\n",
    "        break\n",
    "        \n",
    "cap.release()\n",
    "cv.destroyAllWindows()"
   ]
  },
  {
   "cell_type": "markdown",
   "metadata": {},
   "source": [
    "## Draw on Live camera\n",
    "### Rectangle"
   ]
  },
  {
   "cell_type": "code",
   "execution_count": 17,
   "metadata": {},
   "outputs": [],
   "source": [
    "import cv2 as cv\n",
    "\n",
    "cap = cv.VideoCapture(0)\n",
    "\n",
    "width = int(cap.get(cv.CAP_PROP_FRAME_WIDTH))\n",
    "height = int(cap.get(cv.CAP_PROP_FRAME_HEIGHT))\n",
    "\n",
    "# Top left\n",
    "x = width // 3\n",
    "y = height // 3\n",
    "\n",
    "# Rectangle\n",
    "w = width // 2\n",
    "h = height // 2\n",
    "\n",
    "# Bottom right (x+w, y+h)\n",
    "\n",
    "while True:\n",
    "    \n",
    "    ret, frame = cap.read()   \n",
    "    cv.rectangle(frame,(x,y),(x+w, y+h), color=(0,0,255), thickness=4)\n",
    "    cv.imshow('frame', frame)\n",
    "       \n",
    "    if cv.waitKey(1) & 0xFF == ord('q'):\n",
    "            break\n",
    "            \n",
    "cap.release()\n",
    "cv.destroyAllWindows()"
   ]
  },
  {
   "cell_type": "markdown",
   "metadata": {},
   "source": [
    "## Interactive Drawing"
   ]
  },
  {
   "cell_type": "code",
   "execution_count": 2,
   "metadata": {},
   "outputs": [],
   "source": [
    "import cv2 as cv\n",
    "\n",
    "## Global Variables\n",
    "pt1 = (0,0)\n",
    "pt2 = (0,0)\n",
    "\n",
    "topleft_click = False\n",
    "botright_click = False\n",
    "\n",
    "## Callback Def\n",
    "def draw_rectangle(event, x, y, flags, param):\n",
    "    global pt1, pt2, topleft_click, botright_click\n",
    "    \n",
    "    if event == cv.EVENT_LBUTTONDOWN:\n",
    "        \n",
    "        # Reset Rectangle\n",
    "        if topleft_click == True and botright_click == True:\n",
    "            pt1 = (0,0)\n",
    "            pt2 = (0,0)\n",
    "            topleft_click = False\n",
    "            botright_click = False\n",
    "         \n",
    "        if topleft_click == False:\n",
    "            pt1 = (x,y)\n",
    "            topleft_click = True\n",
    "            \n",
    "        elif botright_click == False:\n",
    "            pt2 = (x,y)\n",
    "            botright_click = True\n",
    "\n",
    "# Window and Callback\n",
    "cap = cv.VideoCapture(0)\n",
    "cv.namedWindow('Test')\n",
    "cv.setMouseCallback('Test', draw_rectangle)\n",
    "\n",
    "while True:\n",
    "    \n",
    "    ret, frame = cap.read()   \n",
    "    \n",
    "    if topleft_click:\n",
    "        cv.circle(frame, center= pt1, radius=5, color=(0,0,255), thickness=-1)\n",
    "        \n",
    "    if topleft_click and botright_click:\n",
    "        cv.rectangle(frame, pt1, pt2, color=(0,0,255), thickness=3)\n",
    "    \n",
    "    cv.imshow('Test', frame)\n",
    "    \n",
    "    if cv.waitKey(1) & 0xFF == ord('q'):\n",
    "            break\n",
    "            \n",
    "cap.release()\n",
    "cv.destroyAllWindows()"
   ]
  },
  {
   "cell_type": "markdown",
   "metadata": {},
   "source": [
    "***"
   ]
  }
 ],
 "metadata": {
  "kernelspec": {
   "display_name": "Python 3",
   "language": "python",
   "name": "python3"
  },
  "language_info": {
   "codemirror_mode": {
    "name": "ipython",
    "version": 3
   },
   "file_extension": ".py",
   "mimetype": "text/x-python",
   "name": "python",
   "nbconvert_exporter": "python",
   "pygments_lexer": "ipython3",
   "version": "3.8.5"
  }
 },
 "nbformat": 4,
 "nbformat_minor": 4
}
