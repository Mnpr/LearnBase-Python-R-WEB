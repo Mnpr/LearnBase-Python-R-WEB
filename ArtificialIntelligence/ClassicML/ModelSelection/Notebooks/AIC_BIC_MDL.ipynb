{
 "cells": [
  {
   "cell_type": "markdown",
   "metadata": {},
   "source": [
    "# Implementation Model Selection Criteria(Calculating AIC, BIC and MDL ) with Petrol Consumpiton Dataset\n",
    "\n",
    "Example : Linear Regression\n",
    "\n",
    "Dataset : Petrol Consumption dataset\n",
    "\n",
    ">   For one year, the consumption of petrol was measured in 48 states. The relevant variables are the petrol tax, the per capita income, the number of miles of paved highway, and the proportion of the population with driver's licenses \n",
    "\n",
    "*source :* https://people.sc.fsu.edu/~jburkardt/datasets/regression/x16.txt"
   ]
  },
  {
   "cell_type": "code",
   "execution_count": 2,
   "metadata": {},
   "outputs": [],
   "source": [
    "import pandas as pd\n",
    "import numpy as np\n",
    "import matplotlib.pyplot as plt\n",
    "%matplotlib inline"
   ]
  },
  {
   "cell_type": "code",
   "execution_count": 3,
   "metadata": {},
   "outputs": [
    {
     "data": {
      "text/html": [
       "<div>\n",
       "<style scoped>\n",
       "    .dataframe tbody tr th:only-of-type {\n",
       "        vertical-align: middle;\n",
       "    }\n",
       "\n",
       "    .dataframe tbody tr th {\n",
       "        vertical-align: top;\n",
       "    }\n",
       "\n",
       "    .dataframe thead th {\n",
       "        text-align: right;\n",
       "    }\n",
       "</style>\n",
       "<table border=\"1\" class=\"dataframe\">\n",
       "  <thead>\n",
       "    <tr style=\"text-align: right;\">\n",
       "      <th></th>\n",
       "      <th>Petrol_tax</th>\n",
       "      <th>Average_income</th>\n",
       "      <th>Paved_Highways</th>\n",
       "      <th>Population_Driver_licence(%)</th>\n",
       "      <th>Petrol_Consumption</th>\n",
       "    </tr>\n",
       "  </thead>\n",
       "  <tbody>\n",
       "    <tr>\n",
       "      <th>count</th>\n",
       "      <td>48.000000</td>\n",
       "      <td>48.000000</td>\n",
       "      <td>48.000000</td>\n",
       "      <td>48.000000</td>\n",
       "      <td>48.000000</td>\n",
       "    </tr>\n",
       "    <tr>\n",
       "      <th>mean</th>\n",
       "      <td>7.668333</td>\n",
       "      <td>4241.833333</td>\n",
       "      <td>5565.416667</td>\n",
       "      <td>0.570333</td>\n",
       "      <td>576.770833</td>\n",
       "    </tr>\n",
       "    <tr>\n",
       "      <th>std</th>\n",
       "      <td>0.950770</td>\n",
       "      <td>573.623768</td>\n",
       "      <td>3491.507166</td>\n",
       "      <td>0.055470</td>\n",
       "      <td>111.885816</td>\n",
       "    </tr>\n",
       "    <tr>\n",
       "      <th>min</th>\n",
       "      <td>5.000000</td>\n",
       "      <td>3063.000000</td>\n",
       "      <td>431.000000</td>\n",
       "      <td>0.451000</td>\n",
       "      <td>344.000000</td>\n",
       "    </tr>\n",
       "    <tr>\n",
       "      <th>25%</th>\n",
       "      <td>7.000000</td>\n",
       "      <td>3739.000000</td>\n",
       "      <td>3110.250000</td>\n",
       "      <td>0.529750</td>\n",
       "      <td>509.500000</td>\n",
       "    </tr>\n",
       "    <tr>\n",
       "      <th>50%</th>\n",
       "      <td>7.500000</td>\n",
       "      <td>4298.000000</td>\n",
       "      <td>4735.500000</td>\n",
       "      <td>0.564500</td>\n",
       "      <td>568.500000</td>\n",
       "    </tr>\n",
       "    <tr>\n",
       "      <th>75%</th>\n",
       "      <td>8.125000</td>\n",
       "      <td>4578.750000</td>\n",
       "      <td>7156.000000</td>\n",
       "      <td>0.595250</td>\n",
       "      <td>632.750000</td>\n",
       "    </tr>\n",
       "    <tr>\n",
       "      <th>max</th>\n",
       "      <td>10.000000</td>\n",
       "      <td>5342.000000</td>\n",
       "      <td>17782.000000</td>\n",
       "      <td>0.724000</td>\n",
       "      <td>968.000000</td>\n",
       "    </tr>\n",
       "  </tbody>\n",
       "</table>\n",
       "</div>"
      ],
      "text/plain": [
       "       Petrol_tax  Average_income  Paved_Highways  \\\n",
       "count   48.000000       48.000000       48.000000   \n",
       "mean     7.668333     4241.833333     5565.416667   \n",
       "std      0.950770      573.623768     3491.507166   \n",
       "min      5.000000     3063.000000      431.000000   \n",
       "25%      7.000000     3739.000000     3110.250000   \n",
       "50%      7.500000     4298.000000     4735.500000   \n",
       "75%      8.125000     4578.750000     7156.000000   \n",
       "max     10.000000     5342.000000    17782.000000   \n",
       "\n",
       "       Population_Driver_licence(%)  Petrol_Consumption  \n",
       "count                     48.000000           48.000000  \n",
       "mean                       0.570333          576.770833  \n",
       "std                        0.055470          111.885816  \n",
       "min                        0.451000          344.000000  \n",
       "25%                        0.529750          509.500000  \n",
       "50%                        0.564500          568.500000  \n",
       "75%                        0.595250          632.750000  \n",
       "max                        0.724000          968.000000  "
      ]
     },
     "execution_count": 3,
     "metadata": {},
     "output_type": "execute_result"
    }
   ],
   "source": [
    "dataset = pd.read_csv('../Resources/petrol_consumption.csv')\n",
    "dataset.head()\n",
    "dataset.describe()"
   ]
  },
  {
   "cell_type": "markdown",
   "metadata": {},
   "source": [
    "## Preparing dataset"
   ]
  },
  {
   "cell_type": "code",
   "execution_count": 4,
   "metadata": {},
   "outputs": [],
   "source": [
    "X = dataset[['Petrol_tax', 'Average_income', 'Paved_Highways', 'Population_Driver_licence(%)']]\n",
    "y = dataset['Petrol_Consumption']"
   ]
  },
  {
   "cell_type": "markdown",
   "metadata": {},
   "source": [
    "##  Multiple linear regression"
   ]
  },
  {
   "cell_type": "code",
   "execution_count": 5,
   "metadata": {},
   "outputs": [],
   "source": [
    "from sklearn.model_selection import train_test_split\n",
    "from sklearn.linear_model import LinearRegression\n",
    "from sklearn import metrics\n",
    "\n",
    "X_train, X_test, y_train, y_test = train_test_split(X, y, test_size=0.2, random_state=0)\n",
    "regressor = LinearRegression()\n",
    "regressor.fit(X_train, y_train)\n",
    "\n",
    "y_pred = regressor.predict(X_test)\n",
    "df = pd.DataFrame({'Actual': y_test, 'Predicted': y_pred})"
   ]
  },
  {
   "cell_type": "markdown",
   "metadata": {},
   "source": [
    "The likelihood function for a linear regression model can be shown to be identical to the least squares function; therefore, we can estimate the maximum likelihood of the model via the mean squared error metric.\n",
    "\n",
    "1. the model can be used to estimate an outcome for each example in the training dataset.\n",
    "2. the mean_squared_error() scikit-learn function can be used to calculate the mean squared error for the model.\n",
    "\n",
    "The specific MSE value may vary running each time, due to the stochastic nature of the learning algorithm."
   ]
  },
  {
   "cell_type": "code",
   "execution_count": 6,
   "metadata": {},
   "outputs": [
    {
     "name": "stdout",
     "output_type": "stream",
     "text": [
      "Mean Squared Error: 4666.3447875883585\n",
      "\n",
      "Number of parameters : 5\n"
     ]
    }
   ],
   "source": [
    "mse = metrics.mean_squared_error(y_test, y_pred)\n",
    "print('Mean Squared Error:', mse)\n",
    "\n",
    "num_params = len(regressor.coef_) + 1\n",
    "print('\\nNumber of parameters :', num_params)"
   ]
  },
  {
   "cell_type": "markdown",
   "metadata": {},
   "source": [
    "## Calculation Of AIC and BIC\n",
    "\n",
    "### AIC\n",
    "\n",
    "The AIC calculation for an ordinary least squares linear regression model can be calculated as follows (taken from “A New Look At The Statistical Identification Model“,  1974.):\n",
    "\n",
    "$AIC = n * LL + 2 * k$\n",
    "\n",
    "Where $n$ is the number of examples in the training dataset, $LL$ is the log-likelihood for the model using the natural logarithm (e.g. the log of the MSE), and $k$ is the number of parameters in the model.\n",
    "\n",
    "#### Defining AIC function\n",
    "\n",
    "- Function : calculate_aic() \n",
    "- Arguments : n(no. of examples), the raw mean squared error (mse), and k(no. of parameters)."
   ]
  },
  {
   "cell_type": "code",
   "execution_count": 7,
   "metadata": {},
   "outputs": [
    {
     "name": "stdout",
     "output_type": "stream",
     "text": [
      "AIC: 94.481\n"
     ]
    }
   ],
   "source": [
    "from math import log\n",
    "\n",
    "# calculate aic for regression\n",
    "def calculate_aic(n, mse, num_params):\n",
    "    aic = n * log(mse) + 2 * num_params\n",
    "    return aic\n",
    "\n",
    "aic = calculate_aic(len(y_test), mse, num_params)\n",
    "print('AIC: %.3f' % aic)"
   ]
  },
  {
   "cell_type": "markdown",
   "metadata": {},
   "source": [
    "**This value can be minimized in order to choose better models.**\n",
    "\n",
    "## BIC\n",
    "\n",
    "*The same example can be explored to calculate BIC* \n",
    "\n",
    "The BIC calculation for an ordinary least squares linear regression model can be calculated as follows (taken from [wikipedia-BIC-GaussianSpecialCase](https://en.wikipedia.org/wiki/Bayesian_information_criterion#Gaussian_special_case)):\n",
    "\n",
    "$BIC = n * LL + k * log(n)$\n",
    "\n",
    "Where $n$ is the number of examples in the training dataset, $LL$ is the log-likelihood for the model using the natural logarithm (e.g. log of the mean squared error), and $k$ is the number of parameters in the model, and $log()$ is the natural logarithm.\n",
    "\n",
    "\n",
    "#### Defining BIC function\n",
    "\n",
    "- Function : calculate_bic() \n",
    "- Arguments : n(no. of examples), the raw mean squared error (mse), and k(no. of parameters)."
   ]
  },
  {
   "cell_type": "code",
   "execution_count": 8,
   "metadata": {},
   "outputs": [
    {
     "name": "stdout",
     "output_type": "stream",
     "text": [
      "BIC: 95.994\n"
     ]
    }
   ],
   "source": [
    "# calculate bic for regression\n",
    "def calculate_bic(n, mse, num_params):\n",
    "    bic = n * log(mse) + num_params * log(n)\n",
    "    return bic\n",
    "\n",
    "bic = calculate_bic(len(y_test), mse, num_params)\n",
    "print('BIC: %.3f' % bic)"
   ]
  },
  {
   "cell_type": "markdown",
   "metadata": {},
   "source": [
    "*Again :* the results may vary given the stochastic nature of the learning algorithm.\n",
    "\n",
    "In this case, the AIC is reported to be a value of about 94.48, which is very close to the BIC  value of 95.99. Again, this value can be minimized in order to choose better models."
   ]
  },
  {
   "cell_type": "markdown",
   "metadata": {},
   "source": [
    "### Sklearn.linear_model.LassoLarsIC ( Iterative Value calculation )\n",
    "\n",
    "\n",
    "**LARS(Least angle regression)** : At each step, it finds the feature most correlated with the target. When there are multiple features having equal correlation, instead of continuing along the same feature, it proceeds in a direction equiangular between the features.\n",
    "\n",
    "\n",
    "The optimization objective of Lasso is:\n",
    "\n",
    "$(1 / (2 * n_{samples})) * ||y - X_w||^2_2 + alpha * ||w||_1$\n",
    "\n",
    "\n",
    "**LARS Lasso**: \n",
    "\n",
    "```\n",
    "class sklearn.linear_model.LassoLarsIC(criterion='aic', *, fit_intercept=True, verbose=False, normalize=True, precompute='auto', max_iter=500, eps=2.220446049250313e-16, copy_X=True, positive=False)\n",
    "```"
   ]
  },
  {
   "cell_type": "code",
   "execution_count": 9,
   "metadata": {},
   "outputs": [
    {
     "name": "stderr",
     "output_type": "stream",
     "text": [
      "/home/mnpr_term/miniconda3/lib/python3.7/site-packages/ipykernel_launcher.py:16: RuntimeWarning: divide by zero encountered in log10\n",
      "  app.launch_new_instance()\n",
      "/home/mnpr_term/miniconda3/lib/python3.7/site-packages/ipykernel_launcher.py:16: RuntimeWarning: divide by zero encountered in log10\n",
      "  app.launch_new_instance()\n"
     ]
    },
    {
     "data": {
      "text/plain": [
       "Text(0.5, 1.0, 'Information-criterion for model selection')"
      ]
     },
     "execution_count": 9,
     "metadata": {},
     "output_type": "execute_result"
    },
    {
     "data": {
      "image/png": "[encoded data removed]",
      "text/plain": [
       "<Figure size 432x288 with 1 Axes>"
      ]
     },
     "metadata": {
      "needs_background": "light"
     },
     "output_type": "display_data"
    }
   ],
   "source": [
    "from sklearn.linear_model import LassoLarsIC\n",
    "\n",
    "akaike = LassoLarsIC(criterion='aic')\n",
    "akaike.fit(X, y)\n",
    "alpha_aic_ = akaike.alpha_\n",
    "\n",
    "bayesian = LassoLarsIC(criterion='bic')\n",
    "bayesian.fit(X, y)\n",
    "alpha_bic_ = bayesian.alpha_\n",
    "\n",
    "\n",
    "def plot_aic_bic(ic, name, color):\n",
    "    alpha_ = ic.alpha_\n",
    "    alphas_ = ic.alphas_\n",
    "    criterion_ = ic.criterion_\n",
    "    plt.plot(-np.log10(alphas_), criterion_, '--', color=color,\n",
    "             linewidth=3, label='%s criterion' % name)\n",
    "    plt.axvline(-np.log10(alpha_), color=color, linewidth=3,\n",
    "                label='alpha: %s estimate' % name)\n",
    "    plt.xlabel('-log(alpha)')\n",
    "    plt.ylabel('criterion')\n",
    "    \n",
    "plt.figure()\n",
    "plot_aic_bic(akaike, 'AIC', 'orange')\n",
    "plot_aic_bic(bayesian, 'BIC', 'purple')\n",
    "plt.legend()\n",
    "plt.title('Information-criterion for model selection')"
   ]
  },
  {
   "cell_type": "markdown",
   "metadata": {},
   "source": [
    "Using the AIC and BIC to select an optimal value of the regularization parameter alpha of the Lasso estimator. AIC and BIC criteria are useful to select the value of the regularization parameter by making a trade-off between the goodness of fit and the complexity of the model. A good model should explain well the data while being simple.\n",
    "As shown in the given figure we can visually determine the approximate value for good tradeoff.\n",
    "\n"
   ]
  },
  {
   "cell_type": "markdown",
   "metadata": {},
   "source": [
    "## MDL\n",
    "\n",
    "The Minimum Description Length (MDL) principle recommends choosing the hypothesis that minimizes the sum of following two description lengths.\n",
    "\n",
    "$MDL = L(h) + L(D | h)$\n",
    "\n",
    "Where $h$ is the model, $D$ is the predictions made by the model, $L(h)$ is the number of bits required to represent the model, and $L(D | h)$ is the number of bits required to represent the predictions from the model on the training dataset\n",
    "\n",
    "> *minimum number of bits, or the minimum of the sum of the number of bits required to represent the data and the model.(i.e. The model with the lowest MDL) is selected*\n",
    "\n",
    "\n",
    "Since the score needs to be minimized, the number of bits required to encode $(D | h)$ and the number of bits required to encode $(h)$ can be calculated as the negative log-likelihood; the negative log-likelihood of the model parameters (theta) and the negative log-likelihood of the target values (y) given the input values (X) and the model parameters (theta).\n",
    "\n",
    "$MDL = -log(P(\\theta)) – log(P(y | X, \\theta))$\n",
    "\n",
    "#### Defining MDL function\n",
    "\n",
    "- Function : calculate_mdl() \n",
    "- Arguments : "
   ]
  },
  {
   "cell_type": "code",
   "execution_count": 36,
   "metadata": {},
   "outputs": [],
   "source": [
    "# Steps \n",
    "\n",
    "# 1. calculating negative log likelihood of model parameter\n",
    "\n",
    "# 2. calculating negative log likelihood of y given X and theta\n"
   ]
  },
  {
   "cell_type": "markdown",
   "metadata": {},
   "source": [
    "\n",
    "***"
   ]
  }
 ],
 "metadata": {
  "kernelspec": {
   "display_name": "Python 3",
   "language": "python",
   "name": "python3"
  },
  "language_info": {
   "codemirror_mode": {
    "name": "ipython",
    "version": 3
   },
   "file_extension": ".py",
   "mimetype": "text/x-python",
   "name": "python",
   "nbconvert_exporter": "python",
   "pygments_lexer": "ipython3",
   "version": "3.8.5"
  }
 },
 "nbformat": 4,
 "nbformat_minor": 4
}
